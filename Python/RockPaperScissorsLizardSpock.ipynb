{
 "cells": [
  {
   "cell_type": "markdown",
   "id": "97cdfb5c-4ce0-4b7d-91c6-1bc76719e0f9",
   "metadata": {},
   "source": [
    "<div style=\"border: 2px solid #D8BFD8; padding: 10px; border-radius: 8px; background-color: #f9f9f9; text-align: center; font-size: 30px; color:Purple\">\n",
    "<b>Rock, Paper, Scissors, Lizard, Spock</b>\n",
    "</div>"
   ]
  },
  {
   "cell_type": "markdown",
   "id": "03c274f9-0e76-45eb-ab85-9ddcc8d13f60",
   "metadata": {},
   "source": [
    "<div style=\"border: 2px solid #D8BFD8; padding: 10px; border-radius: 8px; background-color: #f9f9f9; text-align: center; font-size: 20px; color:Purple\">\n",
    "<b>Creating Game Play Function</b>\n",
    "</div>\n"
   ]
  },
  {
   "cell_type": "code",
   "execution_count": 14,
   "id": "748d5d5c-adb3-4339-8feb-600e5638a64d",
   "metadata": {},
   "outputs": [
    {
     "name": "stdout",
     "output_type": "stream",
     "text": [
      "[('Ro', 'Sc'), ('Sc', 'Ro'), ('Ro', 'Sp'), ('Sc', 'Pa'), ('Li', 'Ro'), ('Pa', 'Ro'), ('Ro', 'Pa'), ('Sc', 'Sp'), ('Sc', 'Ro'), ('Li', 'Pa'), ('Sp', 'Sc'), ('Sc', 'Sc'), ('Sc', 'Li'), ('Sc', 'Pa'), ('Pa', 'Sc'), ('Pa', 'Li'), ('Li', 'Pa'), ('Ro', 'Sp'), ('Sc', 'Sc'), ('Ro', 'Li'), ('Ro', 'Sp'), ('Pa', 'Pa'), ('Pa', 'Ro'), ('Sc', 'Li'), ('Pa', 'Sp'), ('Sc', 'Li'), ('Li', 'Sc'), ('Sc', 'Ro'), ('Pa', 'Ro'), ('Sp', 'Ro')]\n"
     ]
    }
   ],
   "source": [
    "\n",
    "import random \n",
    "game_gestures = [\"Ro\", \"Pa\", \"Sc\", \"Li\", \"Sp\"]\n",
    "#Rock, Paper Scissors Lizard Spock\n",
    "\n",
    "def generate_game(num_of_rounds):\n",
    "    \n",
    "    game_play = []\n",
    "    for x in range(num_of_rounds):\n",
    "        ## use random.choice in doc link\n",
    "        P1 = random.choice(game_gestures)\n",
    "        P2 = random.choice(game_gestures)\n",
    "        ##add to game list (game play)\n",
    "        game_play.append((P1, P2))\n",
    "    return game_play\n",
    "\n",
    "game = generate_game(30)\n",
    "print(game)\n"
   ]
  },
  {
   "cell_type": "markdown",
   "id": "9e46e5b9-fb81-4de0-a201-12a00cf50615",
   "metadata": {},
   "source": [
    "<div style=\"border: 2px solid #D8BFD8; padding: 10px; border-radius: 8px; background-color: #f9f9f9; text-align: center; font-size: 20px; color:Purple\">\n",
    "<b>Score Creation / Calculating a Winner</b>\n",
    "</div>"
   ]
  },
  {
   "cell_type": "code",
   "execution_count": 9,
   "id": "e1afdf4c-be96-4610-bd6a-cb754de2e379",
   "metadata": {},
   "outputs": [
    {
     "name": "stdout",
     "output_type": "stream",
     "text": [
      "(42, 40)\n"
     ]
    }
   ],
   "source": [
    "\n",
    "game_rules = {\n",
    "   \"Sc\": [\"Pa\", \"Li\"],\n",
    "    \"Pa\": [\"Ro\", \"Sp\"],\n",
    "    \"Ro\": [\"Li\", \"Sc\"],\n",
    "    \"Li\": [\"Sp\", \"Pa\"],\n",
    "    \"Sp\": [\"Sc\", \"Ro\"]\n",
    "}\n",
    "## key for wins \n",
    "\n",
    "score_calc = dict(zip(game_gestures, [1, 2, 1, 2, 1]))\n",
    "## map gestures to a score\n",
    "\n",
    "\n",
    "def who_wins_round(P1, P2):\n",
    "    if P1 in game_rules[P2]:\n",
    "        return \"P2\"\n",
    "    if P2 in game_rules[P1]:\n",
    "        return \"P1\"\n",
    "    return \"Draw\"\n",
    "\n",
    "def score(game_play) :\n",
    "    P1_total_score = 0\n",
    "    P2_total_score = 0 \n",
    "       \n",
    "    for P1, P2 in game_play:\n",
    "        ## score based on play (either 1 or 2 points depending on hand)\n",
    "        P1_total_score += score_calc[P1]\n",
    "        P2_total_score += score_calc[P2]\n",
    "\n",
    "\n",
    "        ## score based on win/draw/loss\n",
    "        ## Increase the score for winning player by 5. If its a draw then 3 points per player \n",
    "    for P1, P2 in game_play:\n",
    "        winner = who_wins_round(P1, P2)\n",
    "        if winner == \"P1\":\n",
    "            P1_total_score + 5\n",
    "        elif winner == \"P2\":\n",
    "            P2_total_score + 5\n",
    "        else: \n",
    "            P1_total_score + 3\n",
    "            P2_total_score + 3\n",
    "            ##if its a draw add 3\n",
    "        \n",
    "    final_scores = (P1_total_score, P2_total_score)\n",
    "    \n",
    "    return final_scores\n",
    "\n",
    "print(score(game))\n",
    "\n"
   ]
  },
  {
   "cell_type": "markdown",
   "id": "c8d0b605-1702-4670-ab72-81af59f95621",
   "metadata": {},
   "source": [
    "<div style=\"border: 2px solid #D8BFD8; padding: 10px; border-radius: 8px; background-color: #f9f9f9; text-align: center; font-size: 20px; color:Purple\">\n",
    "<b>Most Common Hand for Each Player</b>\n",
    "</div>"
   ]
  },
  {
   "cell_type": "code",
   "execution_count": 10,
   "id": "2794b144-6f10-4a72-9493-dae53797648a",
   "metadata": {},
   "outputs": [
    {
     "name": "stdout",
     "output_type": "stream",
     "text": [
      "('Pa', 'Sc')\n"
     ]
    }
   ],
   "source": [
    "\n",
    "from collections import Counter\n",
    "def common_hand(game):\n",
    "    \n",
    "    \n",
    "    P1_game_play = []\n",
    "    P2_game_play = []\n",
    "\n",
    "    for round in game:\n",
    "        P1_game_play.append(round[0])\n",
    "        # first function is player 1\n",
    "        P2_game_play.append(round[1])\n",
    "        #second function is player 2\n",
    "\n",
    "    \n",
    "    P1_most_common = []\n",
    "    P2_most_common = []\n",
    "\n",
    "    P1_most_common = Counter(P1_game_play).most_common(1)[0][0]\n",
    "    P2_most_common = Counter(P2_game_play).most_common(1)[0][0]\n",
    "\n",
    "    return P1_most_common, P2_most_common\n",
    "    \n",
    "most_common = common_hand(game)\n",
    "print(most_common)"
   ]
  },
  {
   "cell_type": "markdown",
   "id": "baf4f7f9-784e-4c1c-b7ce-6b2b7e455b7b",
   "metadata": {},
   "source": [
    "<div style=\"border: 2px solid #D8BFD8; padding: 10px; border-radius: 8px; background-color: #f9f9f9; text-align: center; font-size: 20px; color:Purple\">\n",
    "<b>Most Common Pair</b>\n",
    "</div>"
   ]
  },
  {
   "cell_type": "code",
   "execution_count": 11,
   "id": "15c842e4-9f63-41ac-88d7-8bebeb54b9cd",
   "metadata": {},
   "outputs": [
    {
     "name": "stdout",
     "output_type": "stream",
     "text": [
      "('Pa', 'Sp')\n"
     ]
    }
   ],
   "source": [
    "#Note this is independent of the hand (Ro,Pa) is considered the sme as (Pa,Ro)\n",
    "\n",
    "from collections import Counter\n",
    "\n",
    "def common_pair(games) :\n",
    "    counts = Counter()\n",
    "\n",
    "    for game in games:\n",
    "        for round in game:\n",
    "            counts[tuple(sorted(round))] += 1\n",
    "\n",
    "    return counts.most_common(1)[0][0]\n",
    "    \n",
    "print(common_pair([game, generate_game(20), generate_game(20)]))\n",
    "##print common pair for x(20) amount of games\n"
   ]
  },
  {
   "cell_type": "markdown",
   "id": "1b5764c3-dab1-43da-b2d3-d59a289b24b5",
   "metadata": {},
   "source": [
    "<div style=\"border: 2px solid #D8BFD8; padding: 10px; border-radius: 8px; background-color: #f9f9f9; text-align: center; font-size: 20px; color:Purple\">\n",
    "<b>Hand That Won the Most Rounds</b>\n",
    "</div>"
   ]
  },
  {
   "cell_type": "code",
   "execution_count": 12,
   "id": "f7f3b8d0-40e6-4968-b9a1-0a9e24b93081",
   "metadata": {},
   "outputs": [
    {
     "name": "stdout",
     "output_type": "stream",
     "text": [
      "Winning Round(s): [(('Pa', 'Sp'), 10)]\n",
      "None\n"
     ]
    }
   ],
   "source": [
    "\n",
    "from collections import Counter\n",
    "\n",
    "def winner(games):\n",
    "    winning_hands = Counter()\n",
    "\n",
    "    for game in games:\n",
    "        for round in game:\n",
    "            P1, P2 = round\n",
    "            if who_wins_round(P1,P2) != \"Draw\":  \n",
    "                winning_hands[tuple(sorted(round))] += 1\n",
    "\n",
    "    best_count = winning_hands.most_common(1)[0][1]\n",
    "    winning_rounds = []\n",
    "    \n",
    "    for round, count in winning_hands.items():\n",
    "        if count == best_count:\n",
    "                winning_rounds.append((round,count))\n",
    "    print(\"Winning Round(s):\" , winning_rounds)\n",
    "    return None\n",
    "\n",
    "\n",
    "print(winner([game, generate_game(20), generate_game(20)]))  \n",
    "##print winner for x(20) amount of games\n"
   ]
  }
 ],
 "metadata": {
  "kernelspec": {
   "display_name": "Python 3 (ipykernel)",
   "language": "python",
   "name": "python3"
  },
  "language_info": {
   "codemirror_mode": {
    "name": "ipython",
    "version": 3
   },
   "file_extension": ".py",
   "mimetype": "text/x-python",
   "name": "python",
   "nbconvert_exporter": "python",
   "pygments_lexer": "ipython3",
   "version": "3.10.12"
  }
 },
 "nbformat": 4,
 "nbformat_minor": 5
}
